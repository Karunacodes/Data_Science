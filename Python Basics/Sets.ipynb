{
 "cells": [
  {
   "cell_type": "markdown",
   "id": "34ffd56f",
   "metadata": {},
   "source": [
    "### Sets"
   ]
  },
  {
   "cell_type": "markdown",
   "id": "1b5efa57",
   "metadata": {},
   "source": [
    "Sets are used to store multiple items in a single variable.\n",
    "1. Sets are unindexed\n",
    "2. Sets are unordered\n",
    "3. Sets can be altered : they are mutable\n",
    "4. Sets do not allow duplicates\n",
    "5. Frozen sets are immutable(unchangable)"
   ]
  },
  {
   "cell_type": "code",
   "execution_count": 1,
   "id": "a2a18035",
   "metadata": {},
   "outputs": [
    {
     "name": "stdout",
     "output_type": "stream",
     "text": [
      "Normal Set\n",
      "{'a', 'b', 'c'}\n"
     ]
    }
   ],
   "source": [
    "# Sets are Frozen Sets\n",
    "# A normal set\n",
    "normal_set = set([\"a\", \"b\",\"c\"])\n",
    "\n",
    "print(\"Normal Set\")\n",
    "print(normal_set)"
   ]
  },
  {
   "cell_type": "code",
   "execution_count": 2,
   "id": "73fc2f46",
   "metadata": {},
   "outputs": [
    {
     "name": "stdout",
     "output_type": "stream",
     "text": [
      "{'a', 'b', 'd', 'c'}\n"
     ]
    }
   ],
   "source": [
    "# adding new value\n",
    "\n",
    "normal_set.add(\"d\")\n",
    "\n",
    "print(normal_set)"
   ]
  },
  {
   "cell_type": "code",
   "execution_count": 3,
   "id": "1db6d6a0",
   "metadata": {},
   "outputs": [
    {
     "name": "stdout",
     "output_type": "stream",
     "text": [
      "Frozen Set\n",
      "frozenset({'g', 'e', 'f'})\n"
     ]
    }
   ],
   "source": [
    "# A frozen set\n",
    "\n",
    "frozen_set =frozenset(['e','f','g'])\n",
    "\n",
    "print(\"Frozen Set\")\n",
    "print(frozen_set) # there can be any order, as sets are unordered"
   ]
  },
  {
   "cell_type": "code",
   "execution_count": 4,
   "id": "db060d35",
   "metadata": {},
   "outputs": [
    {
     "ename": "AttributeError",
     "evalue": "'frozenset' object has no attribute 'add'",
     "output_type": "error",
     "traceback": [
      "\u001b[1;31m---------------------------------------------------------------------------\u001b[0m",
      "\u001b[1;31mAttributeError\u001b[0m                            Traceback (most recent call last)",
      "\u001b[1;32m<ipython-input-4-05f7580f29b0>\u001b[0m in \u001b[0;36m<module>\u001b[1;34m\u001b[0m\n\u001b[0;32m      1\u001b[0m \u001b[1;31m# adding a member to set in frozen set and should throw an error\u001b[0m\u001b[1;33m\u001b[0m\u001b[1;33m\u001b[0m\u001b[1;33m\u001b[0m\u001b[0m\n\u001b[0;32m      2\u001b[0m \u001b[1;33m\u001b[0m\u001b[0m\n\u001b[1;32m----> 3\u001b[1;33m \u001b[0mfrozen_set\u001b[0m\u001b[1;33m.\u001b[0m\u001b[0madd\u001b[0m\u001b[1;33m(\u001b[0m\u001b[1;34m'h'\u001b[0m\u001b[1;33m)\u001b[0m\u001b[1;33m\u001b[0m\u001b[1;33m\u001b[0m\u001b[0m\n\u001b[0m",
      "\u001b[1;31mAttributeError\u001b[0m: 'frozenset' object has no attribute 'add'"
     ]
    }
   ],
   "source": [
    "# adding a member to set in frozen set and should throw an error\n",
    "\n",
    "frozen_set.add('h')"
   ]
  },
  {
   "cell_type": "code",
   "execution_count": 5,
   "id": "1d618049",
   "metadata": {},
   "outputs": [
    {
     "name": "stdout",
     "output_type": "stream",
     "text": [
      "set() set()\n"
     ]
    },
    {
     "data": {
      "text/plain": [
       "{1, 2, 3, 4, 5, 6, 7, 8, 9}"
      ]
     },
     "execution_count": 5,
     "metadata": {},
     "output_type": "execute_result"
    }
   ],
   "source": [
    "# Set Operations\n",
    "\n",
    "# Let us creat sets\n",
    "set1 = set() # Null set\n",
    "set2 = set() # NHull set\n",
    "\n",
    "print(set1, set2)\n",
    "\n",
    "# Adding elements to set1\n",
    "for i in range(1,10):\n",
    "    set1.add(i)\n",
    "    \n",
    "set1"
   ]
  },
  {
   "cell_type": "code",
   "execution_count": 6,
   "id": "aa9c670c",
   "metadata": {},
   "outputs": [
    {
     "data": {
      "text/plain": [
       "{3, 4, 5, 6, 7, 8, 9}"
      ]
     },
     "execution_count": 6,
     "metadata": {},
     "output_type": "execute_result"
    }
   ],
   "source": [
    "# Adding elements to set2\n",
    "\n",
    "for i in range(3,10):\n",
    "    set2.add(i)\n",
    "    \n",
    "set2"
   ]
  },
  {
   "cell_type": "code",
   "execution_count": 7,
   "id": "caa1dadd",
   "metadata": {},
   "outputs": [
    {
     "name": "stdout",
     "output_type": "stream",
     "text": [
      "Union of Set1 & Set2 : Set3 {1, 2, 3, 4, 5, 6, 7, 8, 9}\n"
     ]
    }
   ],
   "source": [
    "# Union of set1 & set2\n",
    "# Union shows all the values in set1 & set2\n",
    "\n",
    "set3 = set1 | set2 # set1.union(set2)\n",
    "\n",
    "print(\"Union of Set1 & Set2 : Set3\", set3)\n",
    "# Within sets duplicates are not allowed"
   ]
  },
  {
   "cell_type": "code",
   "execution_count": 8,
   "id": "7bd4917a",
   "metadata": {},
   "outputs": [
    {
     "name": "stdout",
     "output_type": "stream",
     "text": [
      "Intersection of Set1 & Set2 : Set4 =  {3, 4, 5, 6, 7, 8, 9}\n"
     ]
    }
   ],
   "source": [
    " # Intersection (Commom elements) of set1 & Set2\n",
    "\n",
    "set4 = set1 & set2 # set1.intersection(set2)\n",
    "\n",
    "print(\"Intersection of Set1 & Set2 : Set4 = \", set4)"
   ]
  },
  {
   "cell_type": "code",
   "execution_count": 11,
   "id": "d674b575",
   "metadata": {},
   "outputs": [
    {
     "name": "stdout",
     "output_type": "stream",
     "text": [
      "Set4 is a subset of Set3\n",
      "\n",
      "\n"
     ]
    }
   ],
   "source": [
    "if set3 > set4:\n",
    "    print(\"Set4 is a subset of Set3\"),\n",
    "elif set3 < set4:\n",
    "    print(\"Set3 is a subset of Set4\")\n",
    "else : print(\"Set3 is same as Set4\")\n",
    "print(\"\\n\")"
   ]
  }
 ],
 "metadata": {
  "kernelspec": {
   "display_name": "Python 3",
   "language": "python",
   "name": "python3"
  },
  "language_info": {
   "codemirror_mode": {
    "name": "ipython",
    "version": 3
   },
   "file_extension": ".py",
   "mimetype": "text/x-python",
   "name": "python",
   "nbconvert_exporter": "python",
   "pygments_lexer": "ipython3",
   "version": "3.8.5"
  }
 },
 "nbformat": 4,
 "nbformat_minor": 5
}
