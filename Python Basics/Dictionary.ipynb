{
 "cells": [
  {
   "cell_type": "markdown",
   "id": "15f3b848",
   "metadata": {},
   "source": [
    "### Dictionaries / Mappings"
   ]
  },
  {
   "cell_type": "markdown",
   "id": "82960271",
   "metadata": {},
   "source": [
    "Dictionaries are unordered key-valuie pairs\n",
    "keys are immutable, where as the values are mutable\n",
    "Dictionaries are created by using { ( List : [], Tuple = (), Sets = [()], Dictionary = {})}\n",
    "Dictionaries are accessed via keys & not via positions\n",
    "A dictionary is an associative array (also known as hashes)\n",
    "Dictionaries do not support sequence data types like strings, tuples & lists"
   ]
  },
  {
   "cell_type": "code",
   "execution_count": 1,
   "id": "5ca39b56",
   "metadata": {},
   "outputs": [
    {
     "name": "stdout",
     "output_type": "stream",
     "text": [
      "{'Name': ('Nikhil', 'Sharat'), 'Age': 25, 'Bike': 'Beneli'}\n",
      "('Nikhil', 'Sharat')\n",
      "25\n"
     ]
    }
   ],
   "source": [
    "# accessing values in dictionary\n",
    "dict1 = {'Name' : (\"Nikhil\", \"Sharat\"), 'Age' : 25, 'Bike' : 'Beneli'}\n",
    "\n",
    "print(dict1)\n",
    "print(dict1['Name'])\n",
    "print(dict1['Age'])"
   ]
  },
  {
   "cell_type": "code",
   "execution_count": 2,
   "id": "553a5669",
   "metadata": {},
   "outputs": [
    {
     "data": {
      "text/plain": [
       "{'Name': ('Nikhil', 'Sharat'), 'Age': 27, 'Bike': 'Beneli'}"
      ]
     },
     "execution_count": 2,
     "metadata": {},
     "output_type": "execute_result"
    }
   ],
   "source": [
    "# Updating dict with existing entry\n",
    "dict1['Age']= 27\n",
    "dict1"
   ]
  },
  {
   "cell_type": "code",
   "execution_count": 3,
   "id": "dbf72600",
   "metadata": {},
   "outputs": [
    {
     "data": {
      "text/plain": [
       "{'Name': ('Nikhil', 'Sharat'),\n",
       " 'Age': 27,\n",
       " 'Bike': 'Beneli',\n",
       " 'Sal': [50000, 10000, 55000],\n",
       " 'School': 'K V S'}"
      ]
     },
     "execution_count": 3,
     "metadata": {},
     "output_type": "execute_result"
    }
   ],
   "source": [
    "# Updating dict with new entry\n",
    "dict1['Sal'] = [50000, 10000, 55000]\n",
    "dict1['School'] = 'K V S'\n",
    "\n",
    "dict1"
   ]
  },
  {
   "cell_type": "code",
   "execution_count": 4,
   "id": "09f41d21",
   "metadata": {},
   "outputs": [
    {
     "data": {
      "text/plain": [
       "{'Name': ('Nikhil', 'Sharat'),\n",
       " 'Bike': 'Beneli',\n",
       " 'Sal': [50000, 10000, 55000],\n",
       " 'School': 'K V S'}"
      ]
     },
     "execution_count": 4,
     "metadata": {},
     "output_type": "execute_result"
    }
   ],
   "source": [
    "# Delete Dict elements\n",
    "del(dict1['Age'])\n",
    "\n",
    "dict1"
   ]
  },
  {
   "cell_type": "code",
   "execution_count": 5,
   "id": "baa35769",
   "metadata": {},
   "outputs": [
    {
     "data": {
      "text/plain": [
       "dict_items([('Name', ('Nikhil', 'Sharat')), ('Bike', 'Beneli'), ('Sal', [50000, 10000, 55000]), ('School', 'K V S')])"
      ]
     },
     "execution_count": 5,
     "metadata": {},
     "output_type": "execute_result"
    }
   ],
   "source": [
    "dict1.items() # shows contents"
   ]
  },
  {
   "cell_type": "code",
   "execution_count": 6,
   "id": "dea5bb98",
   "metadata": {},
   "outputs": [
    {
     "data": {
      "text/plain": [
       "dict_keys(['Name', 'Bike', 'Sal', 'School'])"
      ]
     },
     "execution_count": 6,
     "metadata": {},
     "output_type": "execute_result"
    }
   ],
   "source": [
    "dict1.keys() # displays keys or list"
   ]
  },
  {
   "cell_type": "code",
   "execution_count": 7,
   "id": "1fd57b46",
   "metadata": {},
   "outputs": [
    {
     "data": {
      "text/plain": [
       "dict_values([('Nikhil', 'Sharat'), 'Beneli', [50000, 10000, 55000], 'K V S'])"
      ]
     },
     "execution_count": 7,
     "metadata": {},
     "output_type": "execute_result"
    }
   ],
   "source": [
    "dict1.values() # displays values or list"
   ]
  },
  {
   "cell_type": "code",
   "execution_count": 8,
   "id": "635e1451",
   "metadata": {},
   "outputs": [
    {
     "data": {
      "text/plain": [
       "dict_items"
      ]
     },
     "execution_count": 8,
     "metadata": {},
     "output_type": "execute_result"
    }
   ],
   "source": [
    "# to check type\n",
    "xy = dict1.items()\n",
    "type(xy)"
   ]
  },
  {
   "cell_type": "code",
   "execution_count": 9,
   "id": "06a95ea5",
   "metadata": {},
   "outputs": [
    {
     "ename": "NameError",
     "evalue": "name 'dict1' is not defined",
     "output_type": "error",
     "traceback": [
      "\u001b[1;31m---------------------------------------------------------------------------\u001b[0m",
      "\u001b[1;31mNameError\u001b[0m                                 Traceback (most recent call last)",
      "\u001b[1;32m<ipython-input-9-c59ea713c742>\u001b[0m in \u001b[0;36m<module>\u001b[1;34m\u001b[0m\n\u001b[0;32m      2\u001b[0m \u001b[1;32mdel\u001b[0m\u001b[1;33m(\u001b[0m\u001b[0mdict1\u001b[0m\u001b[1;33m)\u001b[0m\u001b[1;33m\u001b[0m\u001b[1;33m\u001b[0m\u001b[0m\n\u001b[0;32m      3\u001b[0m \u001b[1;33m\u001b[0m\u001b[0m\n\u001b[1;32m----> 4\u001b[1;33m \u001b[0mdict1\u001b[0m\u001b[1;33m\u001b[0m\u001b[1;33m\u001b[0m\u001b[0m\n\u001b[0m",
      "\u001b[1;31mNameError\u001b[0m: name 'dict1' is not defined"
     ]
    }
   ],
   "source": [
    "# Deleting entire dict\n",
    "del(dict1)\n",
    "\n",
    "dict1 # throwing error as its deleted now"
   ]
  }
 ],
 "metadata": {
  "kernelspec": {
   "display_name": "Python 3",
   "language": "python",
   "name": "python3"
  },
  "language_info": {
   "codemirror_mode": {
    "name": "ipython",
    "version": 3
   },
   "file_extension": ".py",
   "mimetype": "text/x-python",
   "name": "python",
   "nbconvert_exporter": "python",
   "pygments_lexer": "ipython3",
   "version": "3.8.5"
  }
 },
 "nbformat": 4,
 "nbformat_minor": 5
}
