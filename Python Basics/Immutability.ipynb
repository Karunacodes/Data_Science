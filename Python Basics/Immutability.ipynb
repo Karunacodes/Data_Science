{
 "cells": [
  {
   "cell_type": "markdown",
   "id": "d2c231ee",
   "metadata": {},
   "source": [
    "### Immutability"
   ]
  },
  {
   "cell_type": "markdown",
   "id": "0fdf74fa",
   "metadata": {},
   "source": [
    "###### Lists are mutable : you can edit it"
   ]
  },
  {
   "cell_type": "markdown",
   "id": "85935863",
   "metadata": {},
   "source": [
    "###### Tuples : it is same as list but w/some differences. It is unmutable. can be used as keys in dictionary.they are e"
   ]
  },
  {
   "cell_type": "code",
   "execution_count": 1,
   "id": "166ef618",
   "metadata": {},
   "outputs": [
    {
     "name": "stdout",
     "output_type": "stream",
     "text": [
      "('Street triple', 'Detona', 'Beneli', 8055)\n",
      "(1, 2, 3, 4, 5)\n"
     ]
    }
   ],
   "source": [
    "# Immutability\n",
    "\n",
    "## Create a tuple dataset\n",
    "tup1 = ('Street triple', 'Detona', 'Beneli', 8055)\n",
    "\n",
    "tup2 = (1,2,3,4,5)\n",
    "\n",
    "print(tup1)\n",
    "print(tup2) # reading, writing is faster in case of tuples"
   ]
  },
  {
   "cell_type": "code",
   "execution_count": 2,
   "id": "d93f6c72",
   "metadata": {},
   "outputs": [
    {
     "data": {
      "text/plain": [
       "2102364004240"
      ]
     },
     "execution_count": 2,
     "metadata": {},
     "output_type": "execute_result"
    }
   ],
   "source": [
    "id(tup1) # memory location"
   ]
  },
  {
   "cell_type": "code",
   "execution_count": 3,
   "id": "d9a80040",
   "metadata": {},
   "outputs": [
    {
     "name": "stdout",
     "output_type": "stream",
     "text": [
      "()\n"
     ]
    }
   ],
   "source": [
    "# creating an empty tuple\n",
    "tup3 = ()\n",
    "print(tup3)"
   ]
  },
  {
   "cell_type": "code",
   "execution_count": 4,
   "id": "ca42d548",
   "metadata": {},
   "outputs": [
    {
     "data": {
      "text/plain": [
       "2102291202112"
      ]
     },
     "execution_count": 4,
     "metadata": {},
     "output_type": "execute_result"
    }
   ],
   "source": [
    "id(tup3)"
   ]
  },
  {
   "cell_type": "code",
   "execution_count": 5,
   "id": "703cd309",
   "metadata": {},
   "outputs": [
    {
     "data": {
      "text/plain": [
       "2102364004240"
      ]
     },
     "execution_count": 5,
     "metadata": {},
     "output_type": "execute_result"
    }
   ],
   "source": [
    "id(tup1)"
   ]
  },
  {
   "cell_type": "code",
   "execution_count": 6,
   "id": "743483f3",
   "metadata": {},
   "outputs": [
    {
     "data": {
      "text/plain": [
       "(50,)"
      ]
     },
     "execution_count": 6,
     "metadata": {},
     "output_type": "execute_result"
    }
   ],
   "source": [
    "#create a single tuple\n",
    "tup1 = (50,)\n",
    "tup1"
   ]
  },
  {
   "cell_type": "code",
   "execution_count": 7,
   "id": "8af7db32",
   "metadata": {},
   "outputs": [
    {
     "name": "stdout",
     "output_type": "stream",
     "text": [
      "Street triple\n",
      "(2, 3, 4, 5)\n"
     ]
    }
   ],
   "source": [
    "# accessing values in Tuples\n",
    "tup1 = ('Street triple', 'Detona', 'Beneli', 8055)\n",
    "print(tup1[0])\n",
    "\n",
    "tup2 = (1,2,3,4,5,6,7)\n",
    "print(tup2[1:5])"
   ]
  },
  {
   "cell_type": "code",
   "execution_count": 8,
   "id": "8f84b9be",
   "metadata": {},
   "outputs": [],
   "source": [
    "# updating tuples\n",
    "tup1 = (12, 34.56)\n",
    "\n",
    "tup2 = ('abc','xyz')"
   ]
  },
  {
   "cell_type": "code",
   "execution_count": 9,
   "id": "9ac7ec38",
   "metadata": {},
   "outputs": [],
   "source": [
    "# updating tuples\n",
    "tup1 = (12, 34.56)\n",
    "\n",
    "tup2 = ('abc','xyz')"
   ]
  },
  {
   "cell_type": "code",
   "execution_count": null,
   "id": "901b0409",
   "metadata": {},
   "outputs": [],
   "source": []
  }
 ],
 "metadata": {
  "kernelspec": {
   "display_name": "Python 3",
   "language": "python",
   "name": "python3"
  },
  "language_info": {
   "codemirror_mode": {
    "name": "ipython",
    "version": 3
   },
   "file_extension": ".py",
   "mimetype": "text/x-python",
   "name": "python",
   "nbconvert_exporter": "python",
   "pygments_lexer": "ipython3",
   "version": "3.8.5"
  }
 },
 "nbformat": 4,
 "nbformat_minor": 5
}
