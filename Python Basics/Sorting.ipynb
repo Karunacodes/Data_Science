{
 "cells": [
  {
   "cell_type": "markdown",
   "id": "97586d0b",
   "metadata": {},
   "source": [
    "### Sorting"
   ]
  },
  {
   "cell_type": "code",
   "execution_count": 1,
   "id": "5b893f36",
   "metadata": {},
   "outputs": [
    {
     "name": "stdout",
     "output_type": "stream",
     "text": [
      "['eff', 'lml', 'abcd', 'hijd']\n"
     ]
    }
   ],
   "source": [
    "string = ['abcd','eff', 'hijd','lml'] # list in square bracket ; contents are called elecments\n",
    "print(sorted(string,key=len)) # sorting on the basis of key length in ascending order"
   ]
  },
  {
   "cell_type": "code",
   "execution_count": 2,
   "id": "90407c13",
   "metadata": {},
   "outputs": [
    {
     "name": "stdout",
     "output_type": "stream",
     "text": [
      "['lml', 'eff', 'abcd', 'hijd']\n"
     ]
    }
   ],
   "source": [
    "string = ['abcd','hijd','lml','eff'] # sorting works from left to right\n",
    "print(sorted(string,key=len))"
   ]
  },
  {
   "cell_type": "code",
   "execution_count": 4,
   "id": "db02a94b",
   "metadata": {},
   "outputs": [
    {
     "data": {
      "text/plain": [
       "'eff'"
      ]
     },
     "execution_count": 4,
     "metadata": {},
     "output_type": "execute_result"
    }
   ],
   "source": [
    "# You can even pass your own function (User-defined functions)\n",
    "string = ['abcd','hijd','lml','eff']\n",
    "\n",
    "def func2(l):\n",
    "    return l[-1]\n",
    "    \n",
    "func2(string)\n",
    "\n",
    "# -1 refers to last value"
   ]
  },
  {
   "cell_type": "code",
   "execution_count": 7,
   "id": "18caec5b",
   "metadata": {},
   "outputs": [
    {
     "data": {
      "text/plain": [
       "'abcd'"
      ]
     },
     "execution_count": 7,
     "metadata": {},
     "output_type": "execute_result"
    }
   ],
   "source": [
    "string = ['abcd','hijd','lml','eff']\n",
    "\n",
    "def func3(l):\n",
    "    return l[0]\n",
    "    \n",
    "func3(string)\n",
    "# 0 means first element"
   ]
  },
  {
   "cell_type": "code",
   "execution_count": 9,
   "id": "e501fa1d",
   "metadata": {},
   "outputs": [
    {
     "name": "stdout",
     "output_type": "stream",
     "text": [
      "g\n"
     ]
    }
   ],
   "source": [
    "print(func2('abcg'))"
   ]
  },
  {
   "cell_type": "code",
   "execution_count": 10,
   "id": "f9bab165",
   "metadata": {},
   "outputs": [
    {
     "name": "stdout",
     "output_type": "stream",
     "text": [
      "['abcd', 'eff', 'hijd', 'lml']\n"
     ]
    }
   ],
   "source": [
    "print(sorted(string)) # here we havent given any key to sort, so it sorts alphabetically"
   ]
  },
  {
   "cell_type": "code",
   "execution_count": 13,
   "id": "02d56f6b",
   "metadata": {},
   "outputs": [
    {
     "name": "stdout",
     "output_type": "stream",
     "text": [
      "a\n"
     ]
    }
   ],
   "source": [
    "print(func3('abcg'))"
   ]
  },
  {
   "cell_type": "code",
   "execution_count": 14,
   "id": "4db83f77",
   "metadata": {},
   "outputs": [
    {
     "name": "stdout",
     "output_type": "stream",
     "text": [
      "['abcd', 'hijd', 'eff', 'lml']\n"
     ]
    }
   ],
   "source": [
    "print(sorted(string, key =func2)) # here sorting is happening over alphabet at -1 position in each element and then are arranged alphabetically : here -1 alphabets are d, d, f, l"
   ]
  }
 ],
 "metadata": {
  "kernelspec": {
   "display_name": "Python 3",
   "language": "python",
   "name": "python3"
  },
  "language_info": {
   "codemirror_mode": {
    "name": "ipython",
    "version": 3
   },
   "file_extension": ".py",
   "mimetype": "text/x-python",
   "name": "python",
   "nbconvert_exporter": "python",
   "pygments_lexer": "ipython3",
   "version": "3.8.5"
  }
 },
 "nbformat": 4,
 "nbformat_minor": 5
}
