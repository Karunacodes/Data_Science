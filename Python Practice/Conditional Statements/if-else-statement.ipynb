{
 "cells": [
  {
   "cell_type": "code",
   "execution_count": 1,
   "id": "25463c77",
   "metadata": {},
   "outputs": [
    {
     "name": "stdout",
     "output_type": "stream",
     "text": [
      "enter your marks in GRE75\n",
      "You got passing grades\n"
     ]
    }
   ],
   "source": [
    "marks = int(input(\"enter your marks in GRE\"))\n",
    "if marks >= 35:\n",
    "    print(\"You got passing grades\")\n",
    "else:\n",
    "    print(\"You got failing grades\")"
   ]
  },
  {
   "cell_type": "code",
   "execution_count": 6,
   "id": "1a224e80",
   "metadata": {},
   "outputs": [
    {
     "name": "stdout",
     "output_type": "stream",
     "text": [
      "enter the marks100\n",
      "Perfect Score\n",
      "Good Luck\n"
     ]
    }
   ],
   "source": [
    "marks = int(input(\"enter the marks\"))\n",
    "if marks == 100:\n",
    "    print(\"Perfect Score\")\n",
    "print(\"Good Luck\")"
   ]
  },
  {
   "cell_type": "code",
   "execution_count": 7,
   "id": "a20abcee",
   "metadata": {},
   "outputs": [
    {
     "name": "stdout",
     "output_type": "stream",
     "text": [
      "y is greater\n"
     ]
    }
   ],
   "source": [
    "x = 20\n",
    "y = 45\n",
    "z = 67\n",
    "\n",
    "if x>y and x>z:\n",
    "    print(\"x is greater\")\n",
    "else:\n",
    "    print(\"y is greater\")"
   ]
  }
 ],
 "metadata": {
  "kernelspec": {
   "display_name": "Python 3",
   "language": "python",
   "name": "python3"
  },
  "language_info": {
   "codemirror_mode": {
    "name": "ipython",
    "version": 3
   },
   "file_extension": ".py",
   "mimetype": "text/x-python",
   "name": "python",
   "nbconvert_exporter": "python",
   "pygments_lexer": "ipython3",
   "version": "3.8.5"
  }
 },
 "nbformat": 4,
 "nbformat_minor": 5
}
