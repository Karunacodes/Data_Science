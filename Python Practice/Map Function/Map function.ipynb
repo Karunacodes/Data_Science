{
 "cells": [
  {
   "cell_type": "markdown",
   "id": "c0fe5011",
   "metadata": {},
   "source": [
    "### Map function"
   ]
  },
  {
   "cell_type": "code",
   "execution_count": 1,
   "id": "08ca1d13",
   "metadata": {},
   "outputs": [],
   "source": [
    "def even_odd(num):\n",
    "    if num%2==0:\n",
    "        return \"The number {} is even\".format(num)\n",
    "    else:\n",
    "        return \"The number {} is odd\".format(num)"
   ]
  },
  {
   "cell_type": "code",
   "execution_count": 2,
   "id": "32d7559a",
   "metadata": {},
   "outputs": [
    {
     "data": {
      "text/plain": [
       "'The number 19 is odd'"
      ]
     },
     "execution_count": 2,
     "metadata": {},
     "output_type": "execute_result"
    }
   ],
   "source": [
    "even_odd(19)"
   ]
  },
  {
   "cell_type": "code",
   "execution_count": 3,
   "id": "5713a143",
   "metadata": {},
   "outputs": [],
   "source": [
    "lst=1,2,3,4,98,45,23,6,22,44,12,11,89,67,76,33,49,66"
   ]
  },
  {
   "cell_type": "code",
   "execution_count": 4,
   "id": "ec5aeaa3",
   "metadata": {},
   "outputs": [
    {
     "data": {
      "text/plain": [
       "<map at 0x212c8682610>"
      ]
     },
     "execution_count": 4,
     "metadata": {},
     "output_type": "execute_result"
    }
   ],
   "source": [
    "map(even_odd, lst) # its a lazyloading...no. in output shows memory location"
   ]
  },
  {
   "cell_type": "code",
   "execution_count": 5,
   "id": "9161bd8a",
   "metadata": {},
   "outputs": [
    {
     "data": {
      "text/plain": [
       "['The number 1 is odd',\n",
       " 'The number 2 is even',\n",
       " 'The number 3 is odd',\n",
       " 'The number 4 is even',\n",
       " 'The number 98 is even',\n",
       " 'The number 45 is odd',\n",
       " 'The number 23 is odd',\n",
       " 'The number 6 is even',\n",
       " 'The number 22 is even',\n",
       " 'The number 44 is even',\n",
       " 'The number 12 is even',\n",
       " 'The number 11 is odd',\n",
       " 'The number 89 is odd',\n",
       " 'The number 67 is odd',\n",
       " 'The number 76 is even',\n",
       " 'The number 33 is odd',\n",
       " 'The number 49 is odd',\n",
       " 'The number 66 is even']"
      ]
     },
     "execution_count": 5,
     "metadata": {},
     "output_type": "execute_result"
    }
   ],
   "source": [
    "list(map(even_odd,lst))"
   ]
  },
  {
   "cell_type": "code",
   "execution_count": 6,
   "id": "459a8b34",
   "metadata": {},
   "outputs": [],
   "source": [
    "def even_or_odd(num):\n",
    "    if num%2==0:\n",
    "        return True"
   ]
  },
  {
   "cell_type": "code",
   "execution_count": 7,
   "id": "05b25a8a",
   "metadata": {},
   "outputs": [
    {
     "data": {
      "text/plain": [
       "True"
      ]
     },
     "execution_count": 7,
     "metadata": {},
     "output_type": "execute_result"
    }
   ],
   "source": [
    "even_or_odd(34)"
   ]
  },
  {
   "cell_type": "code",
   "execution_count": 8,
   "id": "a6ade6ed",
   "metadata": {},
   "outputs": [],
   "source": [
    "lst1 = 12,13,14,15,16,17,18,19,20"
   ]
  },
  {
   "cell_type": "code",
   "execution_count": 9,
   "id": "77b4fc81",
   "metadata": {},
   "outputs": [
    {
     "data": {
      "text/plain": [
       "<filter at 0x212c8682190>"
      ]
     },
     "execution_count": 9,
     "metadata": {},
     "output_type": "execute_result"
    }
   ],
   "source": [
    "filter(even_or_odd,lst1)"
   ]
  },
  {
   "cell_type": "code",
   "execution_count": 10,
   "id": "1ff02480",
   "metadata": {},
   "outputs": [
    {
     "data": {
      "text/plain": [
       "[12, 14, 16, 18, 20]"
      ]
     },
     "execution_count": 10,
     "metadata": {},
     "output_type": "execute_result"
    }
   ],
   "source": [
    "list(filter(even_or_odd,lst1))"
   ]
  },
  {
   "cell_type": "code",
   "execution_count": 11,
   "id": "269f8823",
   "metadata": {},
   "outputs": [
    {
     "data": {
      "text/plain": [
       "[12, 14, 16, 18, 20]"
      ]
     },
     "execution_count": 11,
     "metadata": {},
     "output_type": "execute_result"
    }
   ],
   "source": [
    "list(filter(lambda num: num%2==0, lst1))"
   ]
  },
  {
   "cell_type": "code",
   "execution_count": 12,
   "id": "9f92c0f8",
   "metadata": {},
   "outputs": [
    {
     "data": {
      "text/plain": [
       "[True, None, True, None, True, None, True, None, True]"
      ]
     },
     "execution_count": 12,
     "metadata": {},
     "output_type": "execute_result"
    }
   ],
   "source": [
    "list(map(even_or_odd,lst1)) #map function returns outfut for all values vs filter function will return only for the said statement(here only True)"
   ]
  },
  {
   "cell_type": "code",
   "execution_count": 13,
   "id": "92fb3679",
   "metadata": {},
   "outputs": [],
   "source": [
    "lst = 1,2,3,4,5,6,7,8,9,10,8,2,3,4,5"
   ]
  },
  {
   "cell_type": "code",
   "execution_count": 14,
   "id": "af63fb65",
   "metadata": {},
   "outputs": [],
   "source": [
    "List=list(map(lambda num:num%2==0,lst))"
   ]
  },
  {
   "cell_type": "code",
   "execution_count": 15,
   "id": "aaec388f",
   "metadata": {},
   "outputs": [
    {
     "data": {
      "text/plain": [
       "[False,\n",
       " True,\n",
       " False,\n",
       " True,\n",
       " False,\n",
       " True,\n",
       " False,\n",
       " True,\n",
       " False,\n",
       " True,\n",
       " True,\n",
       " True,\n",
       " False,\n",
       " True,\n",
       " False]"
      ]
     },
     "execution_count": 15,
     "metadata": {},
     "output_type": "execute_result"
    }
   ],
   "source": [
    "List"
   ]
  },
  {
   "cell_type": "code",
   "execution_count": 16,
   "id": "ec05c0b8",
   "metadata": {},
   "outputs": [],
   "source": [
    "lst1 = 27,28,39,20,40,50,56,87,32,45,12,200"
   ]
  },
  {
   "cell_type": "code",
   "execution_count": 17,
   "id": "313de45a",
   "metadata": {},
   "outputs": [],
   "source": [
    "List1 =list(filter(lambda num:num%2==0,lst1))"
   ]
  },
  {
   "cell_type": "code",
   "execution_count": 18,
   "id": "f0355c8c",
   "metadata": {},
   "outputs": [
    {
     "data": {
      "text/plain": [
       "[28, 20, 40, 50, 56, 32, 12, 200]"
      ]
     },
     "execution_count": 18,
     "metadata": {},
     "output_type": "execute_result"
    }
   ],
   "source": [
    "List1"
   ]
  },
  {
   "cell_type": "code",
   "execution_count": 19,
   "id": "77834cbd",
   "metadata": {},
   "outputs": [],
   "source": [
    "List2 = list(map(lambda num:num%2==0,lst1))"
   ]
  },
  {
   "cell_type": "code",
   "execution_count": 20,
   "id": "4f5c44b7",
   "metadata": {},
   "outputs": [
    {
     "data": {
      "text/plain": [
       "[False, True, False, True, True, True, True, False, True, False, True, True]"
      ]
     },
     "execution_count": 20,
     "metadata": {},
     "output_type": "execute_result"
    }
   ],
   "source": [
    "List2"
   ]
  },
  {
   "cell_type": "code",
   "execution_count": null,
   "id": "465cd9e5",
   "metadata": {},
   "outputs": [],
   "source": []
  }
 ],
 "metadata": {
  "kernelspec": {
   "display_name": "Python 3",
   "language": "python",
   "name": "python3"
  },
  "language_info": {
   "codemirror_mode": {
    "name": "ipython",
    "version": 3
   },
   "file_extension": ".py",
   "mimetype": "text/x-python",
   "name": "python",
   "nbconvert_exporter": "python",
   "pygments_lexer": "ipython3",
   "version": "3.8.5"
  }
 },
 "nbformat": 4,
 "nbformat_minor": 5
}
