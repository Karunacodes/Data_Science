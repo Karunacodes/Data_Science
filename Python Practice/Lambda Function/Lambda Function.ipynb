{
 "cells": [
  {
   "cell_type": "markdown",
   "id": "89928ba4",
   "metadata": {},
   "source": [
    "## Lambda Function (Anonymous function)"
   ]
  },
  {
   "cell_type": "code",
   "execution_count": 4,
   "id": "ea94b44d",
   "metadata": {},
   "outputs": [],
   "source": [
    "def addition(a,b):\n",
    "    return a+b"
   ]
  },
  {
   "cell_type": "code",
   "execution_count": 5,
   "id": "24a226e8",
   "metadata": {},
   "outputs": [
    {
     "data": {
      "text/plain": [
       "56"
      ]
     },
     "execution_count": 5,
     "metadata": {},
     "output_type": "execute_result"
    }
   ],
   "source": [
    "addition(34,22)"
   ]
  },
  {
   "cell_type": "code",
   "execution_count": 6,
   "id": "7443e978",
   "metadata": {},
   "outputs": [],
   "source": [
    "addition = lambda a,b : a+b   # lambda works only on single expressions"
   ]
  },
  {
   "cell_type": "code",
   "execution_count": 7,
   "id": "061a6dc2",
   "metadata": {},
   "outputs": [
    {
     "data": {
      "text/plain": [
       "35"
      ]
     },
     "execution_count": 7,
     "metadata": {},
     "output_type": "execute_result"
    }
   ],
   "source": [
    "addition(23,12)"
   ]
  },
  {
   "cell_type": "code",
   "execution_count": 8,
   "id": "c28a32d4",
   "metadata": {},
   "outputs": [],
   "source": [
    "def even (a):\n",
    "    if a%2==0:\n",
    "        return True"
   ]
  },
  {
   "cell_type": "code",
   "execution_count": 9,
   "id": "37ebb9fe",
   "metadata": {},
   "outputs": [
    {
     "data": {
      "text/plain": [
       "True"
      ]
     },
     "execution_count": 9,
     "metadata": {},
     "output_type": "execute_result"
    }
   ],
   "source": [
    "even(32)    # for odd no.s it doesnt returns false"
   ]
  },
  {
   "cell_type": "code",
   "execution_count": 10,
   "id": "ea837fc9",
   "metadata": {},
   "outputs": [],
   "source": [
    "even1 = lambda a:a%2==0"
   ]
  },
  {
   "cell_type": "code",
   "execution_count": 11,
   "id": "5c74d4de",
   "metadata": {},
   "outputs": [
    {
     "data": {
      "text/plain": [
       "False"
      ]
     },
     "execution_count": 11,
     "metadata": {},
     "output_type": "execute_result"
    }
   ],
   "source": [
    "even1(23)"
   ]
  },
  {
   "cell_type": "code",
   "execution_count": 12,
   "id": "0f997c6f",
   "metadata": {},
   "outputs": [],
   "source": [
    "sum1 = lambda a,b,c:a+b+c"
   ]
  },
  {
   "cell_type": "code",
   "execution_count": 13,
   "id": "6580eff2",
   "metadata": {},
   "outputs": [
    {
     "data": {
      "text/plain": [
       "93"
      ]
     },
     "execution_count": 13,
     "metadata": {},
     "output_type": "execute_result"
    }
   ],
   "source": [
    "sum1(21,41,31)"
   ]
  },
  {
   "cell_type": "code",
   "execution_count": 14,
   "id": "01fa3434",
   "metadata": {},
   "outputs": [],
   "source": [
    "prod = lambda a,b,c,d,e : a*b*c*d*e"
   ]
  },
  {
   "cell_type": "code",
   "execution_count": 15,
   "id": "8118cc07",
   "metadata": {},
   "outputs": [
    {
     "data": {
      "text/plain": [
       "0"
      ]
     },
     "execution_count": 15,
     "metadata": {},
     "output_type": "execute_result"
    }
   ],
   "source": [
    "prod(1,5,20,31,0)"
   ]
  },
  {
   "cell_type": "code",
   "execution_count": 16,
   "id": "03fb5ffb",
   "metadata": {},
   "outputs": [
    {
     "data": {
      "text/plain": [
       "648.0"
      ]
     },
     "execution_count": 16,
     "metadata": {},
     "output_type": "execute_result"
    }
   ],
   "source": [
    "prod(1.2,3,4,4.5,10)"
   ]
  },
  {
   "cell_type": "code",
   "execution_count": 17,
   "id": "67befc49",
   "metadata": {},
   "outputs": [
    {
     "ename": "TypeError",
     "evalue": "<lambda>() missing 3 required positional arguments: 'c', 'd', and 'e'",
     "output_type": "error",
     "traceback": [
      "\u001b[1;31m---------------------------------------------------------------------------\u001b[0m",
      "\u001b[1;31mTypeError\u001b[0m                                 Traceback (most recent call last)",
      "\u001b[1;32m<ipython-input-17-6cadf44178c7>\u001b[0m in \u001b[0;36m<module>\u001b[1;34m\u001b[0m\n\u001b[1;32m----> 1\u001b[1;33m \u001b[0mprod\u001b[0m\u001b[1;33m(\u001b[0m\u001b[1;36m1\u001b[0m\u001b[1;33m,\u001b[0m\u001b[1;36m2\u001b[0m\u001b[1;33m)\u001b[0m \u001b[1;31m# all the arguments, i.e c, d & e are not provided, so error is thrown\u001b[0m\u001b[1;33m\u001b[0m\u001b[1;33m\u001b[0m\u001b[0m\n\u001b[0m",
      "\u001b[1;31mTypeError\u001b[0m: <lambda>() missing 3 required positional arguments: 'c', 'd', and 'e'"
     ]
    }
   ],
   "source": [
    "prod(1,2) # all the arguments, i.e c, d & e are not provided, so error is thrown"
   ]
  }
 ],
 "metadata": {
  "kernelspec": {
   "display_name": "Python 3",
   "language": "python",
   "name": "python3"
  },
  "language_info": {
   "codemirror_mode": {
    "name": "ipython",
    "version": 3
   },
   "file_extension": ".py",
   "mimetype": "text/x-python",
   "name": "python",
   "nbconvert_exporter": "python",
   "pygments_lexer": "ipython3",
   "version": "3.8.5"
  }
 },
 "nbformat": 4,
 "nbformat_minor": 5
}
