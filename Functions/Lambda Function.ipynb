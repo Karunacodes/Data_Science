{
 "cells": [
  {
   "cell_type": "markdown",
   "id": "48b47b12",
   "metadata": {},
   "source": [
    "## Lambda Function (Anonymous function)\n"
   ]
  },
  {
   "cell_type": "markdown",
   "id": "dba4d4a8",
   "metadata": {},
   "source": [
    "#### A lambda function is a small anonymous function. A lambda function can take any number of arguments, but can only have one expression."
   ]
  },
  {
   "cell_type": "code",
   "execution_count": 1,
   "id": "2a1a9445",
   "metadata": {},
   "outputs": [],
   "source": [
    "def addition(a,b):\n",
    "    return a+b"
   ]
  },
  {
   "cell_type": "code",
   "execution_count": 2,
   "id": "d02d51f1",
   "metadata": {},
   "outputs": [
    {
     "data": {
      "text/plain": [
       "56"
      ]
     },
     "execution_count": 2,
     "metadata": {},
     "output_type": "execute_result"
    }
   ],
   "source": [
    "addition(34,22)"
   ]
  },
  {
   "cell_type": "markdown",
   "id": "1f2a5025",
   "metadata": {},
   "source": [
    "addition = lambda a,b : a+b   # lambda works only on single expressions"
   ]
  },
  {
   "cell_type": "code",
   "execution_count": 4,
   "id": "d3d2bc0b",
   "metadata": {},
   "outputs": [
    {
     "data": {
      "text/plain": [
       "35"
      ]
     },
     "execution_count": 4,
     "metadata": {},
     "output_type": "execute_result"
    }
   ],
   "source": [
    "addition(23,12)"
   ]
  },
  {
   "cell_type": "code",
   "execution_count": 5,
   "id": "886606c1",
   "metadata": {},
   "outputs": [],
   "source": [
    "def even (a):\n",
    "    if a%2==0:\n",
    "        return True"
   ]
  },
  {
   "cell_type": "code",
   "execution_count": 6,
   "id": "3a917e43",
   "metadata": {
    "scrolled": true
   },
   "outputs": [
    {
     "data": {
      "text/plain": [
       "True"
      ]
     },
     "execution_count": 6,
     "metadata": {},
     "output_type": "execute_result"
    }
   ],
   "source": [
    "even(32)    # for odd no.s it doesnt returns false"
   ]
  },
  {
   "cell_type": "code",
   "execution_count": 7,
   "id": "a577232d",
   "metadata": {},
   "outputs": [],
   "source": [
    "even1 = lambda a:a%2==0"
   ]
  },
  {
   "cell_type": "code",
   "execution_count": 8,
   "id": "d56697fc",
   "metadata": {},
   "outputs": [
    {
     "data": {
      "text/plain": [
       "False"
      ]
     },
     "execution_count": 8,
     "metadata": {},
     "output_type": "execute_result"
    }
   ],
   "source": [
    "even1(23)"
   ]
  },
  {
   "cell_type": "code",
   "execution_count": 9,
   "id": "060c05e1",
   "metadata": {},
   "outputs": [],
   "source": [
    "sum1 = lambda a,b,c:a+b+c"
   ]
  },
  {
   "cell_type": "code",
   "execution_count": 10,
   "id": "db8203ea",
   "metadata": {},
   "outputs": [
    {
     "data": {
      "text/plain": [
       "93"
      ]
     },
     "execution_count": 10,
     "metadata": {},
     "output_type": "execute_result"
    }
   ],
   "source": [
    "sum1(21,41,31)"
   ]
  },
  {
   "cell_type": "code",
   "execution_count": 11,
   "id": "2b515a97",
   "metadata": {},
   "outputs": [],
   "source": [
    "prod = lambda a,b,c,d,e : a*b*c*d*e"
   ]
  },
  {
   "cell_type": "code",
   "execution_count": 12,
   "id": "a07d6657",
   "metadata": {},
   "outputs": [
    {
     "data": {
      "text/plain": [
       "0"
      ]
     },
     "execution_count": 12,
     "metadata": {},
     "output_type": "execute_result"
    }
   ],
   "source": [
    "prod(1,5,20,31,0)"
   ]
  },
  {
   "cell_type": "code",
   "execution_count": 13,
   "id": "5dda8e71",
   "metadata": {},
   "outputs": [
    {
     "data": {
      "text/plain": [
       "648.0"
      ]
     },
     "execution_count": 13,
     "metadata": {},
     "output_type": "execute_result"
    }
   ],
   "source": [
    "prod(1.2,3,4,4.5,10)"
   ]
  }
 ],
 "metadata": {
  "kernelspec": {
   "display_name": "Python 3",
   "language": "python",
   "name": "python3"
  },
  "language_info": {
   "codemirror_mode": {
    "name": "ipython",
    "version": 3
   },
   "file_extension": ".py",
   "mimetype": "text/x-python",
   "name": "python",
   "nbconvert_exporter": "python",
   "pygments_lexer": "ipython3",
   "version": "3.8.5"
  }
 },
 "nbformat": 4,
 "nbformat_minor": 5
}
